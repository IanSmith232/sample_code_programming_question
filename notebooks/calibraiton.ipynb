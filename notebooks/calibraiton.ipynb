{
 "cells": [
  {
   "cell_type": "markdown",
   "metadata": {},
   "source": [
    "1. mirror mount positions go from 0 to 1 (or any arbitrary continuous range really)\n",
    "\n",
    "2. ion responses go from 0 to 100 photons per measurement round (or any arbitrary , small,\n",
    "integer range)"
   ]
  },
  {
   "cell_type": "code",
   "execution_count": 1,
   "metadata": {},
   "outputs": [],
   "source": [
    "from abc import ABC, abstractmethod\n",
    "import math\n",
    "import scipy.stats as stats\n",
    "\n",
    "\n",
    "class IonSystem(ABC):\n",
    "    _max_ion_response = 100\n",
    "\n",
    "    @abstractmethod\n",
    "    def move_mirror_to_position(self, pos: float) -> None:\n",
    "        \"\"\"\n",
    "        Move position to pos. 0-1\n",
    "\n",
    "        \"\"\"\n",
    "        ...\n",
    "\n",
    "    @abstractmethod\n",
    "    def measure_ion_response(self) -> int:\n",
    "        \"\"\"\n",
    "        Return the ion response 0 to _max_ion_response\n",
    "\n",
    "        \"\"\"\n",
    "        ...\n",
    "\n",
    "class GaussianIonSystem(IonSystem):\n",
    "    def __init__(self, peak_location: float, variance: float):\n",
    "        # define constants\n",
    "        self.peak_location: float = peak_location\n",
    "        self.variance: float = variance\n",
    "        self.pos: float = 0.\n",
    "\n",
    "    @property\n",
    "    def sigma(self) -> float:\n",
    "        return math.sqrt(self.variance)\n",
    "\n",
    "    def move_mirror_to_position(self, pos: float) -> None:\n",
    "        \"\"\"\n",
    "        Move position to pos. 0-1\n",
    "\n",
    "        \"\"\"\n",
    "        self.pos = pos\n",
    "\n",
    "    def measure_ion_response(self) -> int:\n",
    "        \"\"\"\n",
    "        Return the ion response 0 to _max_ion_response\n",
    "\n",
    "        \"\"\"\n",
    "        return round(stats.norm.pdf(self.pos, self.peak_location, self.sigma))"
   ]
  },
  {
   "cell_type": "code",
   "execution_count": 9,
   "metadata": {},
   "outputs": [
    {
     "data": {
      "text/plain": [
       "0.3989422804014327"
      ]
     },
     "execution_count": 9,
     "metadata": {},
     "output_type": "execute_result"
    }
   ],
   "source": [
    "\n"
   ]
  }
 ],
 "metadata": {
  "kernelspec": {
   "display_name": "Python 3 (ipykernel)",
   "language": "python",
   "name": "python3"
  },
  "language_info": {
   "codemirror_mode": {
    "name": "ipython",
    "version": 3
   },
   "file_extension": ".py",
   "mimetype": "text/x-python",
   "name": "python",
   "nbconvert_exporter": "python",
   "pygments_lexer": "ipython3",
   "version": "3.10.4"
  },
  "orig_nbformat": 4
 },
 "nbformat": 4,
 "nbformat_minor": 2
}
